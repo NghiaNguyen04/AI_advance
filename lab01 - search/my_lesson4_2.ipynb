{
 "cells": [
  {
   "cell_type": "markdown",
   "id": "0cfa247f-bf3f-4910-90dc-ae8ecb607964",
   "metadata": {},
   "source": [
    "# Buổi 4: Tìm kiếm trong không gian trạng thái"
   ]
  },
  {
   "cell_type": "markdown",
   "id": "48ace7ff-b7d1-4cf2-94da-a21d2d821112",
   "metadata": {},
   "source": [
    "### Bài 1. Biễu diễn đồ thị\n",
    "\n",
    "Cho đồ thị hàm số **G** (**V**, **E**) như bên dưới:\n",
    "\n",
    "![image](dothi.png)"
   ]
  },
  {
   "cell_type": "markdown",
   "id": "51164f9d-5d98-4361-b2c2-1fb23fd3704c",
   "metadata": {},
   "source": [
    "#### 1. Biễu diễn bằng danh sách / ma trận kề"
   ]
  },
  {
   "metadata": {},
   "cell_type": "markdown",
   "source": "##### 1.1 Danh sách kề",
   "id": "8babaa658345aec"
  },
  {
   "cell_type": "code",
   "id": "8715cbf5-d144-479d-9bb3-eb0be736fa12",
   "metadata": {
    "ExecuteTime": {
     "end_time": "2025-09-18T10:05:10.180183Z",
     "start_time": "2025-09-18T10:05:10.161144Z"
    }
   },
   "source": [
    "\"\"\" CÁC BẠN LÀM BÀI Ở ĐÂY \"\"\"\n",
    "graph_adj_list = {\n",
    "    'A': ['C', 'D', 'E', 'F'],\n",
    "    'B': [],\n",
    "    'C': ['H'],\n",
    "    'D': ['E', 'H'],\n",
    "    'E': ['I', 'K'],\n",
    "    'F': ['G', 'I'],\n",
    "    'G': [],\n",
    "    'H': ['K'],\n",
    "    'I': ['B', 'K'],\n",
    "    'K': ['B']\n",
    "}\n",
    "\n",
    "for node, neighbors in graph_adj_list.items():\n",
    "    print(f\"{node}: {neighbors}\")"
   ],
   "outputs": [
    {
     "name": "stdout",
     "output_type": "stream",
     "text": [
      "A: ['C', 'D', 'E', 'F']\n",
      "B: []\n",
      "C: ['H']\n",
      "D: ['E', 'H']\n",
      "E: ['I', 'K']\n",
      "F: ['G', 'I']\n",
      "G: []\n",
      "H: ['K']\n",
      "I: ['B', 'K']\n",
      "K: ['B']\n"
     ]
    }
   ],
   "execution_count": 23
  },
  {
   "metadata": {},
   "cell_type": "markdown",
   "source": "##### 1.2 Ma trận kề",
   "id": "e31e6b2ecff85237"
  },
  {
   "metadata": {
    "ExecuteTime": {
     "end_time": "2025-09-18T10:05:10.195067Z",
     "start_time": "2025-09-18T10:05:10.181184Z"
    }
   },
   "cell_type": "code",
   "source": [
    "import numpy as np\n",
    "\n",
    "vertices = ['A','B','C','D','E','F','G','H','I','K']\n",
    "n = len(vertices)\n",
    "\n",
    "adj_matrix = np.zeros((n,n), dtype=int)\n",
    "\n",
    "# Các cạnh \n",
    "edges = [\n",
    "    ('A','C'), ('A','D'), ('A','E'), ('A','F'),\n",
    "    ('C','H'),\n",
    "    ('D','E'), ('D','H'),\n",
    "    ('E','I'), ('E','K'),\n",
    "    ('F','G'), ('F','I'),\n",
    "    ('H','K'),\n",
    "    ('K','I'), ('K','B'),\n",
    "    ('I','B')\n",
    "]\n",
    "\n",
    "# Điền vào ma trận\n",
    "for u,v in edges:\n",
    "    i, j = vertices.index(u), vertices.index(v)\n",
    "    adj_matrix[i][j] = 1\n",
    "\n",
    "# In ma trận kề\n",
    "print(\"   \" + \" \".join(vertices))\n",
    "print(adj_matrix)"
   ],
   "id": "2672d9802b431cf6",
   "outputs": [
    {
     "name": "stdout",
     "output_type": "stream",
     "text": [
      "   A B C D E F G H I K\n",
      "[[0 0 1 1 1 1 0 0 0 0]\n",
      " [0 0 0 0 0 0 0 0 0 0]\n",
      " [0 0 0 0 0 0 0 1 0 0]\n",
      " [0 0 0 0 1 0 0 1 0 0]\n",
      " [0 0 0 0 0 0 0 0 1 1]\n",
      " [0 0 0 0 0 0 1 0 1 0]\n",
      " [0 0 0 0 0 0 0 0 0 0]\n",
      " [0 0 0 0 0 0 0 0 0 1]\n",
      " [0 1 0 0 0 0 0 0 0 0]\n",
      " [0 1 0 0 0 0 0 0 1 0]]\n"
     ]
    }
   ],
   "execution_count": 24
  },
  {
   "cell_type": "markdown",
   "id": "c975f35c-f742-4ac2-be01-1fe53c94eadf",
   "metadata": {},
   "source": [
    "#### 2. Thao tác duyệt đồ thị\n",
    "(a) Liệt kê các đỉnh trong đồ thị <br/>\n",
    "(b) Liệt kê tất cả các cạnh đồ thị hiển thị dạng danh sách kề <br/>\n",
    "(c) Cho hai đỉnh A, B. Hỏi hai đỉnh A, B có kề nhau không? <br/>\n",
    "(d) Cho một đỉnh A. Hỏi danh sách các đỉnh kề với A <br/>"
   ]
  },
  {
   "cell_type": "code",
   "id": "5faa6543-247a-4903-ba2a-9c1595af4f41",
   "metadata": {
    "ExecuteTime": {
     "end_time": "2025-09-18T10:05:10.210095Z",
     "start_time": "2025-09-18T10:05:10.204576Z"
    }
   },
   "source": [
    "print(\"(a) Liệt kê các đỉnh trong đồ thị\")\n",
    "print(\"Các đỉnh của đồ thị: \", end = \" \")\n",
    "\"\"\" CÁC BẠN LÀM BÀI Ở ĐÂY \"\"\"\n",
    "print(sorted(graph_adj_list.keys()))"
   ],
   "outputs": [
    {
     "name": "stdout",
     "output_type": "stream",
     "text": [
      "(a) Liệt kê các đỉnh trong đồ thị\n",
      "Các đỉnh của đồ thị:  ['A', 'B', 'C', 'D', 'E', 'F', 'G', 'H', 'I', 'K']\n"
     ]
    }
   ],
   "execution_count": 25
  },
  {
   "cell_type": "code",
   "id": "3df2151a-a327-4672-a7af-519084f4b044",
   "metadata": {
    "ExecuteTime": {
     "end_time": "2025-09-18T10:05:10.224947Z",
     "start_time": "2025-09-18T10:05:10.211430Z"
    }
   },
   "source": [
    "print(\"(b) Liệt kê tất cả các cạnh đồ thị hiển thị dạng danh sách kề\")\n",
    "print(\"Danh sách kề của đồ thị: \")\n",
    "\n",
    "def HienThiDoThi(G):\n",
    "    \"\"\" CÁC BẠN LÀM BÀI Ở ĐÂY \"\"\"\n",
    "    for u,v in G.items():\n",
    "        print(f\"+ Đỉnh {u}: {v}\")\n",
    "    pass\n",
    "\n",
    "HienThiDoThi(graph_adj_list)"
   ],
   "outputs": [
    {
     "name": "stdout",
     "output_type": "stream",
     "text": [
      "(b) Liệt kê tất cả các cạnh đồ thị hiển thị dạng danh sách kề\n",
      "Danh sách kề của đồ thị: \n",
      "+ Đỉnh A: ['C', 'D', 'E', 'F']\n",
      "+ Đỉnh B: []\n",
      "+ Đỉnh C: ['H']\n",
      "+ Đỉnh D: ['E', 'H']\n",
      "+ Đỉnh E: ['I', 'K']\n",
      "+ Đỉnh F: ['G', 'I']\n",
      "+ Đỉnh G: []\n",
      "+ Đỉnh H: ['K']\n",
      "+ Đỉnh I: ['B', 'K']\n",
      "+ Đỉnh K: ['B']\n"
     ]
    }
   ],
   "execution_count": 26
  },
  {
   "cell_type": "code",
   "id": "4077c30a-c7be-4a44-93de-9ed446a6a368",
   "metadata": {
    "ExecuteTime": {
     "end_time": "2025-09-18T10:05:10.240966Z",
     "start_time": "2025-09-18T10:05:10.226948Z"
    }
   },
   "source": [
    "print(\"(c) Cho hai đỉnh A, B. Hỏi hai đỉnh A, B có kề nhau không?\")\n",
    "\n",
    "def LaKe(G, a, b):\n",
    "    \"\"\"\n",
    "    input: G, a, b\n",
    "    return: \n",
    "    + -1: dinh a, hay b khong ton tai\n",
    "    +  0: dinh a, b ton tai va a khong ke b\n",
    "    +  1: dinh a, b ton tai va a, b ke nhau\n",
    "    \"\"\"\n",
    "    result = 0\n",
    "    \"\"\" CÁC BẠN LÀM BÀI Ở ĐÂY \"\"\"\n",
    "    if a not in G or b not in G:\n",
    "        return -1\n",
    "    if a in G.get(b):\n",
    "        return 1\n",
    "    return result"
   ],
   "outputs": [
    {
     "name": "stdout",
     "output_type": "stream",
     "text": [
      "(c) Cho hai đỉnh A, B. Hỏi hai đỉnh A, B có kề nhau không?\n"
     ]
    }
   ],
   "execution_count": 27
  },
  {
   "cell_type": "code",
   "id": "0e90a761-8354-460a-a451-1cbb97b9b6b8",
   "metadata": {
    "ExecuteTime": {
     "end_time": "2025-09-18T10:05:10.272044Z",
     "start_time": "2025-09-18T10:05:10.251484Z"
    }
   },
   "source": [
    "a = \"L\"; b = \"R\"; print(f\"{a} ke {b}: {LaKe(graph_adj_list, a, b)}\")\n",
    "a = \"A\"; b = \"R\"; print(f\"{a} ke {b}: {LaKe(graph_adj_list, a, b)}\")\n",
    "a = \"E\"; b = \"D\"; print(f\"{a} ke {b}: {LaKe(graph_adj_list, a, b)}\")\n",
    "a = \"D\"; b = \"E\"; print(f\"{a} ke {b}: {LaKe(graph_adj_list, a, b)}\")"
   ],
   "outputs": [
    {
     "name": "stdout",
     "output_type": "stream",
     "text": [
      "L ke R: -1\n",
      "A ke R: -1\n",
      "E ke D: 1\n",
      "D ke E: 0\n"
     ]
    }
   ],
   "execution_count": 28
  },
  {
   "cell_type": "code",
   "id": "41048b4b-9311-470f-9c0f-2bcb5b062587",
   "metadata": {
    "ExecuteTime": {
     "end_time": "2025-09-18T10:05:10.303092Z",
     "start_time": "2025-09-18T10:05:10.286705Z"
    }
   },
   "source": [
    "print(\"(d) Cho một đỉnh A. Hỏi danh sách các đỉnh kề với A\")\n",
    "\n",
    "def LayKe(G, a):\n",
    "    \"\"\"\n",
    "    input: G, a\n",
    "    return: \n",
    "    + None: neu a khong ton tai\n",
    "    + []  : a khong ke voi bat ky dinh nao\n",
    "    + [x, y, ...]: mang cac dinh ke voi a\n",
    "    \"\"\"\n",
    "    \n",
    "    \"\"\" CÁC BẠN LÀM BÀI Ở ĐÂY \"\"\"\n",
    "    if  G.get(a, []) == []:\n",
    "        return None\n",
    "    else:\n",
    "        return G.get(a)\n",
    "\n",
    "a = \"P\"; print(f\"Danh sach ke voi dinh {a}: {LayKe(graph_adj_list, a)}\")\n",
    "a = \"A\"; print(f\"Danh sach ke voi dinh {a}: {LayKe(graph_adj_list, a)}\")\n",
    "a = \"B\"; print(f\"Danh sach ke voi dinh {a}: {LayKe(graph_adj_list, a)}\")\n",
    "a = \"D\"; print(f\"Danh sach ke voi dinh {a}: {LayKe(graph_adj_list, a)}\")"
   ],
   "outputs": [
    {
     "name": "stdout",
     "output_type": "stream",
     "text": [
      "(d) Cho một đỉnh A. Hỏi danh sách các đỉnh kề với A\n",
      "Danh sach ke voi dinh P: None\n",
      "Danh sach ke voi dinh A: ['C', 'D', 'E', 'F']\n",
      "Danh sach ke voi dinh B: None\n",
      "Danh sach ke voi dinh D: ['E', 'H']\n"
     ]
    }
   ],
   "execution_count": 29
  },
  {
   "cell_type": "markdown",
   "id": "465a8fdb-f10f-47a9-91ab-1b23598fda4f",
   "metadata": {},
   "source": [
    "#### 3. Đọc và lưu đồ thị\n",
    "**dske.txt**\n",
    "```\n",
    "10           # số đỉnh đồ thị\n",
    "A C E F D    # đỉnh A kề với C E F D\n",
    "B            # đỉnh B không kề với ai\n",
    "C H\n",
    "D E H\n",
    "E K I\n",
    "F I G\n",
    "G\n",
    "H K\n",
    "I K B\n",
    "K B\n",
    "```"
   ]
  },
  {
   "cell_type": "code",
   "id": "a71b385f-d571-4d94-88f1-427527c23653",
   "metadata": {
    "ExecuteTime": {
     "end_time": "2025-09-18T10:05:10.318693Z",
     "start_time": "2025-09-18T10:05:10.308597Z"
    }
   },
   "source": [
    "print(\"1. Lưu đồ thị xuống tập tin\")\n",
    "\n",
    "def LuuDoThi(G, file_path, verbose = True):\n",
    "    import os\n",
    "    \n",
    "    \"\"\" CÁC BẠN LÀM BÀI Ở ĐÂY \"\"\"\n",
    "    \n",
    "    # Tạo thư mục chứa file_path\n",
    "    file_dir = os.path.dirname(file_path)\n",
    "    if file_dir != \"\" and os.path.exists(file_path) == False:\n",
    "        os.makedirs(file_dir)\n",
    "        if verbose: print(f\"+ Tao thu muc: {file_dir}\")\n",
    "    \n",
    "    # Lưu đồ thị\n",
    "    with open(file_path, \"wt\") as file:\n",
    "        \"\"\" CÁC BẠN LÀM BÀI Ở ĐÂY \"\"\"\n",
    "        file.write(f\"{len(G)} \\n\")\n",
    "        for node, neighbors in G.items():\n",
    "            line = node + \" \" + \" \".join(neighbors) + \"\\n\"\n",
    "            file.write(line)\n",
    "        \n",
    "        if verbose: print(f\"Luu do thi thanh cong xuong tap tin: {file_path}\")\n",
    "    pass\n",
    "\n",
    "LuuDoThi(graph_adj_list, \"dske1.txt\", verbose = True)\n",
    "with open(\"dske1.txt\", \"rt\") as file:\n",
    "    lines = file.readlines()\n",
    "    for line in lines: print(line, end=\"\")"
   ],
   "outputs": [
    {
     "name": "stdout",
     "output_type": "stream",
     "text": [
      "1. Lưu đồ thị xuống tập tin\n",
      "Luu do thi thanh cong xuong tap tin: dske1.txt\n",
      "10 \n",
      "A C D E F\n",
      "B \n",
      "C H\n",
      "D E H\n",
      "E I K\n",
      "F G I\n",
      "G \n",
      "H K\n",
      "I B K\n",
      "K B\n"
     ]
    }
   ],
   "execution_count": 30
  },
  {
   "cell_type": "code",
   "id": "b30921dc-fb94-44a5-907f-0d66340757a0",
   "metadata": {
    "ExecuteTime": {
     "end_time": "2025-09-18T10:05:10.334071Z",
     "start_time": "2025-09-18T10:05:10.320691Z"
    }
   },
   "source": [
    "print(\"2. Đọc đồ thị từ tập tin\")\n",
    "import pprint\n",
    "\n",
    "def DocDoThi(file_path, verbose = True):\n",
    "    \"\"\"\n",
    "    return:\n",
    "    + None: doc that bai\n",
    "    + <>None: tra ve do thi\n",
    "    \"\"\"\n",
    "    import os\n",
    "    \n",
    "    result = None\n",
    "    if os.path.exists(file_path) == False:\n",
    "        result = None\n",
    "    else:\n",
    "        G = {}\n",
    "        with open(file_path, \"rt\") as file:\n",
    "            n = int(file.readline())\n",
    "            \"\"\" CÁC BẠN LÀM BÀI Ở ĐÂY \"\"\"\n",
    "            for i in range(n):\n",
    "                line = file.readline()\n",
    "                vertices = line.split()\n",
    "                if (len(vertices) > 1):\n",
    "                    G[vertices[0]] = vertices[1:]\n",
    "                else:\n",
    "                    G[vertices[0]] = []\n",
    "            \n",
    "            pass\n",
    "        result = G\n",
    "    return result\n",
    "\n",
    "G1 = DocDoThi(\"dske1.txt\", verbose = True)\n",
    "pprint.pprint(G1)"
   ],
   "outputs": [
    {
     "name": "stdout",
     "output_type": "stream",
     "text": [
      "2. Đọc đồ thị từ tập tin\n",
      "{'A': ['C', 'D', 'E', 'F'],\n",
      " 'B': [],\n",
      " 'C': ['H'],\n",
      " 'D': ['E', 'H'],\n",
      " 'E': ['I', 'K'],\n",
      " 'F': ['G', 'I'],\n",
      " 'G': [],\n",
      " 'H': ['K'],\n",
      " 'I': ['B', 'K'],\n",
      " 'K': ['B']}\n"
     ]
    }
   ],
   "execution_count": 31
  },
  {
   "cell_type": "markdown",
   "id": "8197f40f-69af-489d-80b5-124c91427db6",
   "metadata": {},
   "source": [
    "### Bài 2. Tìm kiếm đường đi trên đồ thị"
   ]
  },
  {
   "cell_type": "markdown",
   "id": "43f12303-9ee9-4404-9ecb-f00a5f78e4ee",
   "metadata": {},
   "source": [
    "#### 1. Tìm kiếm theo chiều rộng (BFS)"
   ]
  },
  {
   "cell_type": "code",
   "id": "1910f300-4094-4d69-b009-a9d4ea0fb27b",
   "metadata": {
    "ExecuteTime": {
     "end_time": "2025-09-18T10:47:03.824771Z",
     "start_time": "2025-09-18T10:47:03.805775Z"
    }
   },
   "source": [
    "import pprint\n",
    "\n",
    "def BFS(G, start, goal):\n",
    "    \"\"\"\n",
    "    return: \n",
    "    + mang chua duong di tu a --> b, neu rong la ko co duong di\n",
    "    + None: dinh a, b khong hop le\n",
    "    \"\"\"\n",
    "    result = None\n",
    "    \n",
    "    if G.get(start) is None or G.get(goal) is None:\n",
    "        result = None\n",
    "    else:\n",
    "        path = {}     # path[a]=b nghia la muon di toi dinh b phai qua a\n",
    "        s_open   = []\n",
    "        s_closed = []\n",
    "        \n",
    "        # đưa start vào open\n",
    "        s_open.append(start)    \n",
    "        path[start] = None\n",
    "        while len(s_open)>0:\n",
    "            \"\"\" CÁC BẠN LÀM BÀI Ở ĐÂY \"\"\"\n",
    "            u = s_open.pop(0)\n",
    "            if u not in s_closed:\n",
    "                s_closed.append(u)\n",
    "                for v in G[u]:\n",
    "                    if v not in s_closed and v not in s_open:\n",
    "                        path[v] = u\n",
    "                        s_open.append(v)\n",
    "        result = path\n",
    "    return result"
   ],
   "outputs": [],
   "execution_count": 98
  },
  {
   "cell_type": "code",
   "id": "ed7e6ed1-ae75-4183-8cb2-0e4eae606144",
   "metadata": {
    "ExecuteTime": {
     "end_time": "2025-09-18T10:47:04.072396Z",
     "start_time": "2025-09-18T10:47:04.053394Z"
    }
   },
   "source": [
    "path = BFS(graph_adj_list, \"A\", \"B\")\n",
    "pprint.pprint(path)"
   ],
   "outputs": [
    {
     "name": "stdout",
     "output_type": "stream",
     "text": [
      "{'A': None,\n",
      " 'B': 'I',\n",
      " 'C': 'A',\n",
      " 'D': 'A',\n",
      " 'E': 'A',\n",
      " 'F': 'A',\n",
      " 'G': 'F',\n",
      " 'H': 'C',\n",
      " 'I': 'E',\n",
      " 'K': 'E'}\n"
     ]
    }
   ],
   "execution_count": 99
  },
  {
   "cell_type": "code",
   "id": "cd05574f-d2fa-4f71-80b2-1f9c5b45f945",
   "metadata": {
    "ExecuteTime": {
     "end_time": "2025-09-18T10:47:04.384467Z",
     "start_time": "2025-09-18T10:47:04.369468Z"
    }
   },
   "source": [
    "def find_path(path, start, goal):\n",
    "    \"\"\"\n",
    "    Cho mang truy hoi duong, tim ds dinh tu start --> goal\n",
    "    \"\"\"\n",
    "    result = []\n",
    "    \n",
    "    \"\"\" CÁC BẠN LÀM BÀI Ở ĐÂY \"\"\"\n",
    "    tmp = goal\n",
    "    while tmp != start:\n",
    "        result.append(tmp)\n",
    "        tmp = path[tmp]\n",
    "        \n",
    "    result.append(\"A\")\n",
    "    return result[::-1]\n",
    "    pass"
   ],
   "outputs": [],
   "execution_count": 100
  },
  {
   "cell_type": "code",
   "id": "50a093aa-283b-4623-9428-a0631e37328b",
   "metadata": {
    "ExecuteTime": {
     "end_time": "2025-09-18T10:47:05.014533Z",
     "start_time": "2025-09-18T10:47:05.001535Z"
    }
   },
   "source": [
    "find_path(path, 'A', 'B')"
   ],
   "outputs": [
    {
     "data": {
      "text/plain": [
       "['A', 'E', 'I', 'B']"
      ]
     },
     "execution_count": 101,
     "metadata": {},
     "output_type": "execute_result"
    }
   ],
   "execution_count": 101
  },
  {
   "cell_type": "markdown",
   "id": "16085819-733d-4f95-a32d-aa52c5e35a6e",
   "metadata": {},
   "source": [
    "#### 2. Tìm kiếm theo chiều rộng (DFS)"
   ]
  },
  {
   "cell_type": "code",
   "id": "50ebc7cd-f093-4d06-852c-e6c903e27864",
   "metadata": {
    "ExecuteTime": {
     "end_time": "2025-09-18T10:47:18.294100Z",
     "start_time": "2025-09-18T10:47:18.272698Z"
    }
   },
   "source": [
    "import pprint\n",
    "\n",
    "def DFS(G, start, goal):\n",
    "    \"\"\"\n",
    "    return: \n",
    "    + mang chua duong di tu a --> b, neu rong la ko co duong di\n",
    "    + None: dinh a, b khong hop le\n",
    "    \"\"\"\n",
    "    result = None\n",
    "    \n",
    "    if G.get(start) is None or G.get(goal) is None:\n",
    "        result = None\n",
    "    else:\n",
    "        path = {}     # path[a]=b nghia la muon di toi dinh b phai qua a\n",
    "        s_open   = []\n",
    "        s_closed = []\n",
    "        \n",
    "        # đưa start vào open\n",
    "        s_open.append(start)    \n",
    "        path[start] = None\n",
    "        while len(s_open)>0:\n",
    "            \"\"\" CÁC BẠN LÀM BÀI Ở ĐÂY \"\"\"\n",
    "            u = s_open.pop()\n",
    "            if u not in s_closed:\n",
    "                s_closed.append(u)\n",
    "                for v in G[u]:\n",
    "                    if v not in s_open:\n",
    "                        s_open.append(v)\n",
    "                        path[v] = u\n",
    "            pass\n",
    "        \n",
    "        result = path\n",
    "    return result"
   ],
   "outputs": [],
   "execution_count": 102
  },
  {
   "cell_type": "code",
   "id": "8177518a-8ffc-4a29-be9c-90375367793a",
   "metadata": {
    "ExecuteTime": {
     "end_time": "2025-09-18T10:47:18.493870Z",
     "start_time": "2025-09-18T10:47:18.479867Z"
    }
   },
   "source": [
    "path = DFS(graph_adj_list, \"A\", \"B\")\n",
    "pprint.pprint(path)"
   ],
   "outputs": [
    {
     "name": "stdout",
     "output_type": "stream",
     "text": [
      "{'A': None,\n",
      " 'B': 'I',\n",
      " 'C': 'A',\n",
      " 'D': 'A',\n",
      " 'E': 'D',\n",
      " 'F': 'A',\n",
      " 'G': 'F',\n",
      " 'H': 'C',\n",
      " 'I': 'E',\n",
      " 'K': 'H'}\n"
     ]
    }
   ],
   "execution_count": 103
  },
  {
   "cell_type": "markdown",
   "id": "d037e84a-1f8c-4388-89f6-9b1e105140da",
   "metadata": {},
   "source": [
    "# Kết thúc"
   ]
  },
  {
   "metadata": {},
   "cell_type": "code",
   "outputs": [],
   "execution_count": null,
   "source": "",
   "id": "4b02b0764f070c4d"
  }
 ],
 "metadata": {
  "kernelspec": {
   "display_name": "Python 3",
   "language": "python",
   "name": "python3"
  },
  "language_info": {
   "codemirror_mode": {
    "name": "ipython",
    "version": 3
   },
   "file_extension": ".py",
   "mimetype": "text/x-python",
   "name": "python",
   "nbconvert_exporter": "python",
   "pygments_lexer": "ipython3",
   "version": "3.8.8"
  }
 },
 "nbformat": 4,
 "nbformat_minor": 5
}
